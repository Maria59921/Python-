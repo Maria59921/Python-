{
  "nbformat": 4,
  "nbformat_minor": 0,
  "metadata": {
    "colab": {
      "provenance": []
    },
    "kernelspec": {
      "name": "python3",
      "display_name": "Python 3"
    },
    "language_info": {
      "name": "python"
    }
  },
  "cells": [
    {
      "cell_type": "markdown",
      "source": [
        "**Part 1**"
      ],
      "metadata": {
        "id": "udNT7AxPyGSm"
      }
    },
    {
      "cell_type": "markdown",
      "source": [
        "**Code to create a DataFrame from a dictionary of sample employee data, then save it as a CSV file titled 'sample_data.csv' using Pandas.**"
      ],
      "metadata": {
        "id": "7zY9NbcCwJpe"
      }
    },
    {
      "cell_type": "code",
      "source": [
        "import pandas as pd\n",
        "\n",
        "# Sample data in a dictionary format\n",
        "data = {\n",
        "    \"Name\": [\"Alice\", \"\", \"Charlie\", \"David\", \"Eve\", \"Alice\", \"Frank\", \"Grace\", \"Heidi\", \"Ivan\", \"Judy\"],\n",
        "    \"Age\": [28, None, 35, 29, 28, 28, 40, 29, 30, 35, 31],\n",
        "    \"Salary\": [50000, 60000, None, None, 60000, 50000, 90000, 45000, 55000, 62000, 59000],\n",
        "    \"Country\": [\"USA\", \"USA\", \"UK\", \"\", \"USA\", \"USA\", \"UK\", \"UK\", \"USA\", \"USA\", \"UK\"],\n",
        "    \"Joining_Date\": [\n",
        "        \"2021-01-15\", \"2021-03-22\", \"2020-12-30\", \"2020-10-15\",\n",
        "        \"2021-02-20\", \"2021-01-15\", \"2019-06-25\", \"2019-08-10\",\n",
        "        \"2021-05-17\", \"2020-11-30\", \"2019-03-15\"\n",
        "    ]\n",
        "}\n",
        "\n",
        "# Create a DataFrame\n",
        "df = pd.DataFrame(data)\n",
        "\n",
        "# Save to CSV\n",
        "df.to_csv('sample_data.csv', index=False)\n"
      ],
      "metadata": {
        "id": "eYr3UQsxdc9c"
      },
      "execution_count": null,
      "outputs": []
    },
    {
      "cell_type": "markdown",
      "source": [
        "**Code to load the previously saved 'sample_data.csv' file into a Pandas DataFrame and display the original data**"
      ],
      "metadata": {
        "id": "lgQixSR_w-7_"
      }
    },
    {
      "cell_type": "code",
      "source": [
        "import pandas as pd\n",
        "\n",
        "# Load the data\n",
        "df = pd.read_csv('sample_data.csv')\n",
        "\n",
        "# Display the original data\n",
        "print(\"Original Data:\")\n",
        "print(df)"
      ],
      "metadata": {
        "colab": {
          "base_uri": "https://localhost:8080/"
        },
        "id": "BvK36lcSeL9-",
        "outputId": "0402f335-befe-4ea3-b727-ea7d29098a1d"
      },
      "execution_count": null,
      "outputs": [
        {
          "output_type": "stream",
          "name": "stdout",
          "text": [
            "Original Data:\n",
            "       Name   Age   Salary Country Joining_Date\n",
            "0     Alice  28.0  50000.0     USA   2021-01-15\n",
            "1       NaN   NaN  60000.0     USA   2021-03-22\n",
            "2   Charlie  35.0      NaN      UK   2020-12-30\n",
            "3     David  29.0      NaN     NaN   2020-10-15\n",
            "4       Eve  28.0  60000.0     USA   2021-02-20\n",
            "5     Alice  28.0  50000.0     USA   2021-01-15\n",
            "6     Frank  40.0  90000.0      UK   2019-06-25\n",
            "7     Grace  29.0  45000.0      UK   2019-08-10\n",
            "8     Heidi  30.0  55000.0     USA   2021-05-17\n",
            "9      Ivan  35.0  62000.0     USA   2020-11-30\n",
            "10     Judy  31.0  59000.0      UK   2019-03-15\n"
          ]
        }
      ]
    },
    {
      "cell_type": "markdown",
      "source": [
        "**Code to handle missing values in the dataset by filling missing 'Age' values with the median, missing 'Salary' values with the mean, and replacing empty 'Country' values with the placeholder 'Unknown'**"
      ],
      "metadata": {
        "id": "omp3Z8U4xHLm"
      }
    },
    {
      "cell_type": "code",
      "source": [
        "# 1. Handle Missing Values\n",
        "# Fill missing values in 'Age' with the median\n",
        "df['Age'].fillna(df['Age'].median(), inplace=True)\n",
        "\n",
        "# Fill missing values in 'Salary' with the mean\n",
        "df['Salary'].fillna(df['Salary'].mean(), inplace=True)\n",
        "\n",
        "# Fill missing values in 'Country' with a placeholder\n",
        "df['Country'].replace('', 'Unknown', inplace=True)"
      ],
      "metadata": {
        "colab": {
          "base_uri": "https://localhost:8080/"
        },
        "id": "xpfxy6ZseQ4S",
        "outputId": "70288eeb-ef10-4d06-abb3-36238af439f2"
      },
      "execution_count": null,
      "outputs": [
        {
          "output_type": "stream",
          "name": "stderr",
          "text": [
            "<ipython-input-16-1a7633cbeb4e>:3: FutureWarning: A value is trying to be set on a copy of a DataFrame or Series through chained assignment using an inplace method.\n",
            "The behavior will change in pandas 3.0. This inplace method will never work because the intermediate object on which we are setting values always behaves as a copy.\n",
            "\n",
            "For example, when doing 'df[col].method(value, inplace=True)', try using 'df.method({col: value}, inplace=True)' or df[col] = df[col].method(value) instead, to perform the operation inplace on the original object.\n",
            "\n",
            "\n",
            "  df['Age'].fillna(df['Age'].median(), inplace=True)\n",
            "<ipython-input-16-1a7633cbeb4e>:6: FutureWarning: A value is trying to be set on a copy of a DataFrame or Series through chained assignment using an inplace method.\n",
            "The behavior will change in pandas 3.0. This inplace method will never work because the intermediate object on which we are setting values always behaves as a copy.\n",
            "\n",
            "For example, when doing 'df[col].method(value, inplace=True)', try using 'df.method({col: value}, inplace=True)' or df[col] = df[col].method(value) instead, to perform the operation inplace on the original object.\n",
            "\n",
            "\n",
            "  df['Salary'].fillna(df['Salary'].mean(), inplace=True)\n",
            "<ipython-input-16-1a7633cbeb4e>:9: FutureWarning: A value is trying to be set on a copy of a DataFrame or Series through chained assignment using an inplace method.\n",
            "The behavior will change in pandas 3.0. This inplace method will never work because the intermediate object on which we are setting values always behaves as a copy.\n",
            "\n",
            "For example, when doing 'df[col].method(value, inplace=True)', try using 'df.method({col: value}, inplace=True)' or df[col] = df[col].method(value) instead, to perform the operation inplace on the original object.\n",
            "\n",
            "\n",
            "  df['Country'].replace('', 'Unknown', inplace=True)\n"
          ]
        }
      ]
    },
    {
      "cell_type": "markdown",
      "source": [
        "**Code to remove duplicate entries from the DataFrame, ensuring that each record is unique.**"
      ],
      "metadata": {
        "id": "sig7FDTVxYqF"
      }
    },
    {
      "cell_type": "code",
      "source": [
        "# 2. Remove Duplicates\n",
        "df.drop_duplicates(inplace=True)"
      ],
      "metadata": {
        "id": "iY2KusrteXXY"
      },
      "execution_count": null,
      "outputs": []
    },
    {
      "cell_type": "markdown",
      "source": [
        "**Code to normalize the 'Salary' column using min-max normalization, scaling the values to a range between 0 and 1 for improved comparability**"
      ],
      "metadata": {
        "id": "ZDZn8FI8xubg"
      }
    },
    {
      "cell_type": "code",
      "source": [
        "# 3. Normalize Data\n",
        "# Normalize the 'Salary' column (min-max normalization)\n",
        "df['Salary'] = (df['Salary'] - df['Salary'].min()) / (df['Salary'].max() - df['Salary'].min())"
      ],
      "metadata": {
        "id": "wBA5i6J1ediJ"
      },
      "execution_count": null,
      "outputs": []
    },
    {
      "cell_type": "markdown",
      "source": [
        "**Code to format the 'Joining_Date' column by converting it to a datetime object for better date handling and analysis.**"
      ],
      "metadata": {
        "id": "TXs-Kzk7x2Xl"
      }
    },
    {
      "cell_type": "code",
      "source": [
        "# 4. Format Dates\n",
        "df['Joining_Date'] = pd.to_datetime(df['Joining_Date'])"
      ],
      "metadata": {
        "id": "96lQF6OoehTC"
      },
      "execution_count": null,
      "outputs": []
    },
    {
      "cell_type": "markdown",
      "source": [
        "**Code to display the cleaned DataFrame, showcasing the modifications made, including handling missing values, removing duplicates, normalizing the 'Salary' column, and formatting the 'Joining_Date' to datetime.**"
      ],
      "metadata": {
        "id": "h4q_oBGEx_th"
      }
    },
    {
      "cell_type": "code",
      "source": [
        "# Display the cleaned data\n",
        "print(\"\\nCleaned Data:\")\n",
        "print(df)"
      ],
      "metadata": {
        "colab": {
          "base_uri": "https://localhost:8080/"
        },
        "id": "C9jQkEsjekMs",
        "outputId": "7b1fcbe8-eaf0-4978-8422-e62c7ae2bbcb"
      },
      "execution_count": null,
      "outputs": [
        {
          "output_type": "stream",
          "name": "stdout",
          "text": [
            "\n",
            "Cleaned Data:\n",
            "       Name   Age    Salary Country Joining_Date\n",
            "0     Alice  28.0  0.111111     USA   2021-01-15\n",
            "1       NaN  29.5  0.333333     USA   2021-03-22\n",
            "2   Charlie  35.0  0.311111      UK   2020-12-30\n",
            "3     David  29.0  0.311111     NaN   2020-10-15\n",
            "4       Eve  28.0  0.333333     USA   2021-02-20\n",
            "6     Frank  40.0  1.000000      UK   2019-06-25\n",
            "7     Grace  29.0  0.000000      UK   2019-08-10\n",
            "8     Heidi  30.0  0.222222     USA   2021-05-17\n",
            "9      Ivan  35.0  0.377778     USA   2020-11-30\n",
            "10     Judy  31.0  0.311111      UK   2019-03-15\n"
          ]
        }
      ]
    },
    {
      "cell_type": "markdown",
      "source": [
        "**Part 2**"
      ],
      "metadata": {
        "id": "2K4vEb72yMm_"
      }
    },
    {
      "cell_type": "markdown",
      "source": [
        "**Code to create a sample DataFrame containing sales data for different products, including columns for Product, Sales, Date, Quantity, Region, and Discount. The DataFrame is displayed to show the initial structure of the data.**"
      ],
      "metadata": {
        "id": "CAf6v59cyW3M"
      }
    },
    {
      "cell_type": "code",
      "source": [
        "import pandas as pd\n",
        "import numpy as np\n",
        "\n",
        "# Sample DataFrame\n",
        "data = {\n",
        "    'Product': ['Widget A', 'Widget B', 'Widget A', 'Widget C', 'Widget B', 'Widget C', 'Widget A', 'Widget B', 'Widget C'],\n",
        "    'Sales': [100.50, np.nan, 150.75, 200.00, 250.50, np.nan, 300.00, 400.00, 500.00],\n",
        "    'Date': ['2024-01-01', '2024-01-01', '2024-01-02', '2024-01-02', '2024-01-03', '2024-01-03', '2024-01-04', '2024-01-04', '2024-01-05'],\n",
        "    'Quantity': [10, 20, 5, 8, np.nan, 12, 10, 6, 5],\n",
        "    'Region': ['North', 'East', 'South', 'West', 'North', 'East', 'South', 'West', 'North'],\n",
        "    'Discount': [0.10, 0.15, -0.05, 0.20, 0.25, 0.30, 0.05, 0.20, 0.10]\n",
        "}\n",
        "\n",
        "df = pd.DataFrame(data)\n",
        "print(df)\n"
      ],
      "metadata": {
        "colab": {
          "base_uri": "https://localhost:8080/"
        },
        "id": "CZ3qbVU1j5-w",
        "outputId": "7c413f29-0e3b-4ba5-dfb5-44b573ebed40"
      },
      "execution_count": null,
      "outputs": [
        {
          "output_type": "stream",
          "name": "stdout",
          "text": [
            "    Product   Sales        Date  Quantity Region  Discount\n",
            "0  Widget A  100.50  2024-01-01      10.0  North      0.10\n",
            "1  Widget B     NaN  2024-01-01      20.0   East      0.15\n",
            "2  Widget A  150.75  2024-01-02       5.0  South     -0.05\n",
            "3  Widget C  200.00  2024-01-02       8.0   West      0.20\n",
            "4  Widget B  250.50  2024-01-03       NaN  North      0.25\n",
            "5  Widget C     NaN  2024-01-03      12.0   East      0.30\n",
            "6  Widget A  300.00  2024-01-04      10.0  South      0.05\n",
            "7  Widget B  400.00  2024-01-04       6.0   West      0.20\n",
            "8  Widget C  500.00  2024-01-05       5.0  North      0.10\n"
          ]
        }
      ]
    },
    {
      "cell_type": "markdown",
      "source": [
        "**Code to clean the DataFrame by filling missing values, correcting negative discounts, and converting the 'Date' column to datetime format, followed by displaying the cleaned DataFrame.**"
      ],
      "metadata": {
        "id": "iJpwq_nRyvKo"
      }
    },
    {
      "cell_type": "code",
      "source": [
        "# Display the original DataFrame\n",
        "print(\"Original DataFrame:\")\n",
        "print(df)\n",
        "\n",
        "# Step 1: Handling Missing Values\n",
        "# Fill missing Sales with the mean of the Sales column\n",
        "df['Sales'].fillna(df['Sales'].mean(), inplace=True)\n",
        "\n",
        "# Fill missing Quantity with the median of the Quantity column\n",
        "df['Quantity'].fillna(df['Quantity'].median(), inplace=True)\n",
        "\n",
        "# Step 2: Fixing Incorrect Data\n",
        "# Replace negative discount values with 0 (assuming discounts cannot be negative)\n",
        "df['Discount'] = df['Discount'].clip(lower=0)\n",
        "\n",
        "# Step 3: Convert Date column to datetime format\n",
        "df['Date'] = pd.to_datetime(df['Date'])\n",
        "\n",
        "print(\"\\nCleaned DataFrame:\")\n",
        "print(df)\n"
      ],
      "metadata": {
        "colab": {
          "base_uri": "https://localhost:8080/"
        },
        "id": "SkL_xP_zj8cS",
        "outputId": "ca7a976d-3ded-4889-d797-d302a3604bff"
      },
      "execution_count": null,
      "outputs": [
        {
          "output_type": "stream",
          "name": "stdout",
          "text": [
            "Original DataFrame:\n",
            "    Product   Sales        Date  Quantity Region  Discount\n",
            "0  Widget A  100.50  2024-01-01      10.0  North      0.10\n",
            "1  Widget B     NaN  2024-01-01      20.0   East      0.15\n",
            "2  Widget A  150.75  2024-01-02       5.0  South     -0.05\n",
            "3  Widget C  200.00  2024-01-02       8.0   West      0.20\n",
            "4  Widget B  250.50  2024-01-03       NaN  North      0.25\n",
            "5  Widget C     NaN  2024-01-03      12.0   East      0.30\n",
            "6  Widget A  300.00  2024-01-04      10.0  South      0.05\n",
            "7  Widget B  400.00  2024-01-04       6.0   West      0.20\n",
            "8  Widget C  500.00  2024-01-05       5.0  North      0.10\n",
            "\n",
            "Cleaned DataFrame:\n",
            "    Product       Sales       Date  Quantity Region  Discount\n",
            "0  Widget A  100.500000 2024-01-01      10.0  North      0.10\n",
            "1  Widget B  271.678571 2024-01-01      20.0   East      0.15\n",
            "2  Widget A  150.750000 2024-01-02       5.0  South      0.00\n",
            "3  Widget C  200.000000 2024-01-02       8.0   West      0.20\n",
            "4  Widget B  250.500000 2024-01-03       9.0  North      0.25\n",
            "5  Widget C  271.678571 2024-01-03      12.0   East      0.30\n",
            "6  Widget A  300.000000 2024-01-04      10.0  South      0.05\n",
            "7  Widget B  400.000000 2024-01-04       6.0   West      0.20\n",
            "8  Widget C  500.000000 2024-01-05       5.0  North      0.10\n"
          ]
        },
        {
          "output_type": "stream",
          "name": "stderr",
          "text": [
            "<ipython-input-22-8891a5c41006>:7: FutureWarning: A value is trying to be set on a copy of a DataFrame or Series through chained assignment using an inplace method.\n",
            "The behavior will change in pandas 3.0. This inplace method will never work because the intermediate object on which we are setting values always behaves as a copy.\n",
            "\n",
            "For example, when doing 'df[col].method(value, inplace=True)', try using 'df.method({col: value}, inplace=True)' or df[col] = df[col].method(value) instead, to perform the operation inplace on the original object.\n",
            "\n",
            "\n",
            "  df['Sales'].fillna(df['Sales'].mean(), inplace=True)\n",
            "<ipython-input-22-8891a5c41006>:10: FutureWarning: A value is trying to be set on a copy of a DataFrame or Series through chained assignment using an inplace method.\n",
            "The behavior will change in pandas 3.0. This inplace method will never work because the intermediate object on which we are setting values always behaves as a copy.\n",
            "\n",
            "For example, when doing 'df[col].method(value, inplace=True)', try using 'df.method({col: value}, inplace=True)' or df[col] = df[col].method(value) instead, to perform the operation inplace on the original object.\n",
            "\n",
            "\n",
            "  df['Quantity'].fillna(df['Quantity'].median(), inplace=True)\n"
          ]
        }
      ]
    },
    {
      "cell_type": "markdown",
      "source": [
        "**Code to create a new column for Total Sales by multiplying 'Sales' and 'Quantity', followed by one-hot encoding the 'Region' column, and displaying the transformed DataFrame.**"
      ],
      "metadata": {
        "id": "oxPIk3Sly3uf"
      }
    },
    {
      "cell_type": "code",
      "source": [
        "# Step 1: Create a new column for Total Sales (Sales * Quantity)\n",
        "df['Total_Sales'] = df['Sales'] * df['Quantity']\n",
        "\n",
        "# Step 2: One-hot encoding for the 'Region' column\n",
        "df = pd.get_dummies(df, columns=['Region'], drop_first=True)\n",
        "\n",
        "print(\"\\nTransformed DataFrame:\")\n",
        "print(df)\n"
      ],
      "metadata": {
        "colab": {
          "base_uri": "https://localhost:8080/"
        },
        "id": "L1rS5IMtkCn3",
        "outputId": "c42b0fcc-816f-43f0-cfbd-8a0f0350e75f"
      },
      "execution_count": null,
      "outputs": [
        {
          "output_type": "stream",
          "name": "stdout",
          "text": [
            "\n",
            "Transformed DataFrame:\n",
            "    Product       Sales       Date  Quantity  Discount  Total_Sales  \\\n",
            "0  Widget A  100.500000 2024-01-01      10.0      0.10  1005.000000   \n",
            "1  Widget B  271.678571 2024-01-01      20.0      0.15  5433.571429   \n",
            "2  Widget A  150.750000 2024-01-02       5.0      0.00   753.750000   \n",
            "3  Widget C  200.000000 2024-01-02       8.0      0.20  1600.000000   \n",
            "4  Widget B  250.500000 2024-01-03       9.0      0.25  2254.500000   \n",
            "5  Widget C  271.678571 2024-01-03      12.0      0.30  3260.142857   \n",
            "6  Widget A  300.000000 2024-01-04      10.0      0.05  3000.000000   \n",
            "7  Widget B  400.000000 2024-01-04       6.0      0.20  2400.000000   \n",
            "8  Widget C  500.000000 2024-01-05       5.0      0.10  2500.000000   \n",
            "\n",
            "   Region_North  Region_South  Region_West  \n",
            "0          True         False        False  \n",
            "1         False         False        False  \n",
            "2         False          True        False  \n",
            "3         False         False         True  \n",
            "4          True         False        False  \n",
            "5         False         False        False  \n",
            "6         False          True        False  \n",
            "7         False         False         True  \n",
            "8          True         False        False  \n"
          ]
        }
      ]
    },
    {
      "cell_type": "markdown",
      "source": [
        "**Code to normalize the 'Sales' and 'Total_Sales' columns using Min-Max scaling, followed by displaying the normalized DataFrame.**"
      ],
      "metadata": {
        "id": "B8MubtnFy_BF"
      }
    },
    {
      "cell_type": "code",
      "source": [
        "# Step 1: Normalize Sales and Total_Sales\n",
        "from sklearn.preprocessing import MinMaxScaler\n",
        "\n",
        "scaler = MinMaxScaler()\n",
        "df[['Sales', 'Total_Sales']] = scaler.fit_transform(df[['Sales', 'Total_Sales']])\n",
        "\n",
        "print(\"\\nNormalized DataFrame:\")\n",
        "print(df)\n"
      ],
      "metadata": {
        "colab": {
          "base_uri": "https://localhost:8080/"
        },
        "id": "ZFYCZV1YkJze",
        "outputId": "b2069ac7-1cf4-4b11-803f-6870f8b445f0"
      },
      "execution_count": null,
      "outputs": [
        {
          "output_type": "stream",
          "name": "stdout",
          "text": [
            "\n",
            "Normalized DataFrame:\n",
            "    Product     Sales       Date  Quantity  Discount  Total_Sales  \\\n",
            "0  Widget A  0.000000 2024-01-01      10.0      0.10     0.053688   \n",
            "1  Widget B  0.428482 2024-01-01      20.0      0.15     1.000000   \n",
            "2  Widget A  0.125782 2024-01-02       5.0      0.00     0.000000   \n",
            "3  Widget C  0.249061 2024-01-02       8.0      0.20     0.180830   \n",
            "4  Widget B  0.375469 2024-01-03       9.0      0.25     0.320685   \n",
            "5  Widget C  0.428482 2024-01-03      12.0      0.30     0.535574   \n",
            "6  Widget A  0.499374 2024-01-04      10.0      0.05     0.479986   \n",
            "7  Widget B  0.749687 2024-01-04       6.0      0.20     0.351776   \n",
            "8  Widget C  1.000000 2024-01-05       5.0      0.10     0.373145   \n",
            "\n",
            "   Region_North  Region_South  Region_West  \n",
            "0          True         False        False  \n",
            "1         False         False        False  \n",
            "2         False          True        False  \n",
            "3         False         False         True  \n",
            "4          True         False        False  \n",
            "5         False         False        False  \n",
            "6         False          True        False  \n",
            "7         False         False         True  \n",
            "8          True         False        False  \n"
          ]
        }
      ]
    }
  ]
}