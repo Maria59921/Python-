{
  "cells": [
    {
      "cell_type": "markdown",
      "metadata": {
        "id": "lOyt1oR-IDaR"
      },
      "source": [
        "## Basic of Python\n",
        "\n",
        "We will discuss about\n",
        "\n",
        "- Various Datatypes in Python\n",
        "- Variable\n",
        "- Variables Assigment\n",
        "- Print Formatting\n"
      ]
    },
    {
      "cell_type": "markdown",
      "metadata": {
        "id": "xxM4LRNgIDaS"
      },
      "source": [
        "## Various DataTypes in Python\n",
        "\n",
        "### Numbers"
      ]
    },
    {
      "cell_type": "markdown",
      "metadata": {
        "id": "WjYb0g2yIDaT"
      },
      "source": [
        "# Python Tutorial\n",
        "\n",
        "## Welcome to Python Tutorial\n",
        "\n",
        "\n",
        "- Datatype"
      ]
    },
    {
      "cell_type": "code",
      "execution_count": 1,
      "metadata": {
        "colab": {
          "base_uri": "https://localhost:8080/"
        },
        "id": "r6tOHnS1IDaT",
        "outputId": "e82fb5bf-e2c9-4a56-b403-04e2c6c21e3b"
      },
      "outputs": [
        {
          "output_type": "execute_result",
          "data": {
            "text/plain": [
              "2"
            ]
          },
          "metadata": {},
          "execution_count": 1
        }
      ],
      "source": [
        "1+1"
      ]
    },
    {
      "cell_type": "code",
      "execution_count": 2,
      "metadata": {
        "colab": {
          "base_uri": "https://localhost:8080/"
        },
        "id": "nIlJRg1FIDaU",
        "outputId": "88f934f9-fc0f-42f1-ce76-ad3682e22c82"
      },
      "outputs": [
        {
          "output_type": "execute_result",
          "data": {
            "text/plain": [
              "20"
            ]
          },
          "metadata": {},
          "execution_count": 2
        }
      ],
      "source": [
        "4*5"
      ]
    },
    {
      "cell_type": "code",
      "execution_count": 3,
      "metadata": {
        "colab": {
          "base_uri": "https://localhost:8080/"
        },
        "id": "QQQnH0RWIDaU",
        "outputId": "3e6023ac-3b99-48c9-e925-f0e228b2d24b"
      },
      "outputs": [
        {
          "output_type": "execute_result",
          "data": {
            "text/plain": [
              "20"
            ]
          },
          "metadata": {},
          "execution_count": 3
        }
      ],
      "source": [
        "2*10"
      ]
    },
    {
      "cell_type": "code",
      "execution_count": 4,
      "metadata": {
        "colab": {
          "base_uri": "https://localhost:8080/"
        },
        "id": "bR7hl1khIDaU",
        "outputId": "090f6bba-0a97-4bff-dbe2-595dd6fa2611"
      },
      "outputs": [
        {
          "output_type": "execute_result",
          "data": {
            "text/plain": [
              "5.0"
            ]
          },
          "metadata": {},
          "execution_count": 4
        }
      ],
      "source": [
        "10/2"
      ]
    },
    {
      "cell_type": "code",
      "execution_count": 5,
      "metadata": {
        "colab": {
          "base_uri": "https://localhost:8080/"
        },
        "id": "4r6lNtBRIDaU",
        "outputId": "3537f792-1174-44eb-9a6b-c67e940f4e10"
      },
      "outputs": [
        {
          "output_type": "execute_result",
          "data": {
            "text/plain": [
              "0"
            ]
          },
          "metadata": {},
          "execution_count": 5
        }
      ],
      "source": [
        "10%2"
      ]
    },
    {
      "cell_type": "code",
      "execution_count": null,
      "metadata": {
        "id": "oMWV1-ozIDaU"
      },
      "outputs": [],
      "source": []
    },
    {
      "cell_type": "code",
      "execution_count": 6,
      "metadata": {
        "colab": {
          "base_uri": "https://localhost:8080/"
        },
        "id": "25XOZRI0IDaV",
        "outputId": "8e1e14a9-0341-4b41-c773-f5a350dab207"
      },
      "outputs": [
        {
          "output_type": "execute_result",
          "data": {
            "text/plain": [
              "100"
            ]
          },
          "metadata": {},
          "execution_count": 6
        }
      ],
      "source": [
        "10**2"
      ]
    },
    {
      "cell_type": "code",
      "execution_count": null,
      "metadata": {
        "id": "h36YMR82IDaV"
      },
      "outputs": [],
      "source": [
        "##Check the Data types"
      ]
    },
    {
      "cell_type": "code",
      "execution_count": 7,
      "metadata": {
        "colab": {
          "base_uri": "https://localhost:8080/"
        },
        "id": "VwF7KRodIDaV",
        "outputId": "ad2f4cf2-3b29-49df-dbf5-73c61b0985b4"
      },
      "outputs": [
        {
          "output_type": "execute_result",
          "data": {
            "text/plain": [
              "bool"
            ]
          },
          "metadata": {},
          "execution_count": 7
        }
      ],
      "source": [
        "type(True)"
      ]
    },
    {
      "cell_type": "code",
      "execution_count": 8,
      "metadata": {
        "colab": {
          "base_uri": "https://localhost:8080/"
        },
        "id": "lSqkpjEdIDaV",
        "outputId": "05cc90ac-3806-40ff-efe1-af7b79cb6c2f"
      },
      "outputs": [
        {
          "output_type": "execute_result",
          "data": {
            "text/plain": [
              "str"
            ]
          },
          "metadata": {},
          "execution_count": 8
        }
      ],
      "source": [
        "type(\"Hello\")"
      ]
    },
    {
      "cell_type": "markdown",
      "metadata": {
        "id": "pC8PWSJpIDaV"
      },
      "source": [
        "### Strings"
      ]
    },
    {
      "cell_type": "code",
      "execution_count": 9,
      "metadata": {
        "colab": {
          "base_uri": "https://localhost:8080/",
          "height": 35
        },
        "id": "y_mKW7yvIDaV",
        "outputId": "a14a044a-36bc-4266-a48e-b1766d25d414"
      },
      "outputs": [
        {
          "output_type": "execute_result",
          "data": {
            "text/plain": [
              "'Hello'"
            ],
            "application/vnd.google.colaboratory.intrinsic+json": {
              "type": "string"
            }
          },
          "metadata": {},
          "execution_count": 9
        }
      ],
      "source": [
        "\"Hello\""
      ]
    },
    {
      "cell_type": "code",
      "execution_count": 10,
      "metadata": {
        "colab": {
          "base_uri": "https://localhost:8080/",
          "height": 35
        },
        "id": "5Beu-jNvIDaW",
        "outputId": "b8609d2e-04b4-428d-d93b-23be9188d1a9"
      },
      "outputs": [
        {
          "output_type": "execute_result",
          "data": {
            "text/plain": [
              "'Maria Antony'"
            ],
            "application/vnd.google.colaboratory.intrinsic+json": {
              "type": "string"
            }
          },
          "metadata": {},
          "execution_count": 10
        }
      ],
      "source": [
        "'Maria Antony'"
      ]
    },
    {
      "cell_type": "code",
      "execution_count": 11,
      "metadata": {
        "colab": {
          "base_uri": "https://localhost:8080/"
        },
        "id": "dLFxnZ6-IDaW",
        "outputId": "e4163fbc-c004-4ed0-962b-e78c6df1b2cd"
      },
      "outputs": [
        {
          "output_type": "execute_result",
          "data": {
            "text/plain": [
              "str"
            ]
          },
          "metadata": {},
          "execution_count": 11
        }
      ],
      "source": [
        "type(\"Maria Antony\")"
      ]
    },
    {
      "cell_type": "markdown",
      "metadata": {
        "id": "xzZYd_pMIDaW"
      },
      "source": [
        "### Variable Assigment"
      ]
    },
    {
      "cell_type": "code",
      "execution_count": 12,
      "metadata": {
        "id": "LODyvr6dIDaW"
      },
      "outputs": [],
      "source": [
        "# syntax\n",
        "# var_name=values\n",
        "\n",
        "a=10"
      ]
    },
    {
      "cell_type": "code",
      "execution_count": 13,
      "metadata": {
        "colab": {
          "base_uri": "https://localhost:8080/"
        },
        "id": "kLym8Dk7IDaW",
        "outputId": "d2cd6dd0-8e54-4253-d267-0661b0bd652c"
      },
      "outputs": [
        {
          "output_type": "execute_result",
          "data": {
            "text/plain": [
              "int"
            ]
          },
          "metadata": {},
          "execution_count": 13
        }
      ],
      "source": [
        "type(a)"
      ]
    },
    {
      "cell_type": "code",
      "execution_count": 14,
      "metadata": {
        "id": "HIVpCs_7IDaW"
      },
      "outputs": [],
      "source": [
        "a='Maria Antony'"
      ]
    },
    {
      "cell_type": "code",
      "execution_count": 15,
      "metadata": {
        "colab": {
          "base_uri": "https://localhost:8080/"
        },
        "id": "Bs0v8N7xIDaW",
        "outputId": "d7a0a5c4-63c0-4530-d225-456a8a105be6"
      },
      "outputs": [
        {
          "output_type": "execute_result",
          "data": {
            "text/plain": [
              "str"
            ]
          },
          "metadata": {},
          "execution_count": 15
        }
      ],
      "source": [
        "type(a)"
      ]
    },
    {
      "cell_type": "code",
      "execution_count": 16,
      "metadata": {
        "id": "95XVLogpIDaW"
      },
      "outputs": [],
      "source": [
        "## Mathematical operation with Variable Assigment\n",
        "\n",
        "a=10\n",
        "b=20"
      ]
    },
    {
      "cell_type": "code",
      "execution_count": 17,
      "metadata": {
        "colab": {
          "base_uri": "https://localhost:8080/"
        },
        "id": "ROLqZiD6IDaW",
        "outputId": "89fba4c7-cfb0-4312-b445-1a5abf34cd10"
      },
      "outputs": [
        {
          "output_type": "stream",
          "name": "stdout",
          "text": [
            "200\n",
            "0.5\n",
            "10\n",
            "200.5\n"
          ]
        }
      ],
      "source": [
        "print(a*b)\n",
        "print(a/b)\n",
        "print(a%b)\n",
        "print((a*b)+(a/b)) ##BODMAS"
      ]
    },
    {
      "cell_type": "code",
      "execution_count": 18,
      "metadata": {
        "colab": {
          "base_uri": "https://localhost:8080/"
        },
        "id": "SKv_1_mfIDaW",
        "outputId": "a4504278-0c92-4b86-b7a1-f3f0c045ba98"
      },
      "outputs": [
        {
          "output_type": "stream",
          "name": "stdout",
          "text": [
            "Hello\n"
          ]
        }
      ],
      "source": [
        "## Various Ways of Printing\n",
        "\n",
        "print(\"Hello\")"
      ]
    },
    {
      "cell_type": "code",
      "execution_count": 19,
      "metadata": {
        "id": "3qO-NK_aIDaX"
      },
      "outputs": [],
      "source": [
        "first_name='Maria'\n",
        "last_name='Antony'"
      ]
    },
    {
      "cell_type": "code",
      "execution_count": 20,
      "metadata": {
        "colab": {
          "base_uri": "https://localhost:8080/"
        },
        "id": "rKzx-AE_IDaX",
        "outputId": "68c4bd36-51a9-4341-b815-9a17dbb71580"
      },
      "outputs": [
        {
          "output_type": "stream",
          "name": "stdout",
          "text": [
            "My first name is Maria and last name is Antony\n"
          ]
        }
      ],
      "source": [
        "print(\"My first name is {} and last name is {}\".format(first_name,last_name))"
      ]
    },
    {
      "cell_type": "code",
      "execution_count": 21,
      "metadata": {
        "colab": {
          "base_uri": "https://localhost:8080/"
        },
        "id": "Khul1WmFIDaX",
        "outputId": "b0dea6e4-2bd5-4410-f61c-dcc03abef204"
      },
      "outputs": [
        {
          "output_type": "stream",
          "name": "stdout",
          "text": [
            "My First name is Maria and last name is Antony\n"
          ]
        }
      ],
      "source": [
        "print(\"My First name is {first} and last name is {last}\".format(last=last_name,first=first_name))"
      ]
    },
    {
      "cell_type": "code",
      "execution_count": 22,
      "metadata": {
        "colab": {
          "base_uri": "https://localhost:8080/"
        },
        "id": "2tbc52ESIDaX",
        "outputId": "f0e29942-2c5f-4eb4-ba00-f8ed29ca34ab"
      },
      "outputs": [
        {
          "output_type": "execute_result",
          "data": {
            "text/plain": [
              "5"
            ]
          },
          "metadata": {},
          "execution_count": 22
        }
      ],
      "source": [
        "len('Maria')"
      ]
    },
    {
      "cell_type": "code",
      "execution_count": 23,
      "metadata": {
        "colab": {
          "base_uri": "https://localhost:8080/"
        },
        "id": "d_9P03DkIDaX",
        "outputId": "eb23f45c-86e7-4b03-cf99-194b1865fee0"
      },
      "outputs": [
        {
          "output_type": "execute_result",
          "data": {
            "text/plain": [
              "list"
            ]
          },
          "metadata": {},
          "execution_count": 23
        }
      ],
      "source": [
        "type(['1',2,3,4,5])"
      ]
    },
    {
      "cell_type": "code",
      "execution_count": null,
      "metadata": {
        "id": "Ebp62pgsIDaX"
      },
      "outputs": [],
      "source": []
    }
  ],
  "metadata": {
    "kernelspec": {
      "display_name": "Python 3",
      "language": "python",
      "name": "python3"
    },
    "language_info": {
      "codemirror_mode": {
        "name": "ipython",
        "version": 3
      },
      "file_extension": ".py",
      "mimetype": "text/x-python",
      "name": "python",
      "nbconvert_exporter": "python",
      "pygments_lexer": "ipython3",
      "version": "3.6.7"
    },
    "colab": {
      "provenance": []
    }
  },
  "nbformat": 4,
  "nbformat_minor": 0
}